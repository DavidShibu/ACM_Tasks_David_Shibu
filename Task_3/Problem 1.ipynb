{
  "nbformat": 4,
  "nbformat_minor": 0,
  "metadata": {
    "colab": {
      "provenance": []
    },
    "kernelspec": {
      "name": "python3",
      "display_name": "Python 3"
    },
    "language_info": {
      "name": "python"
    }
  },
  "cells": [
    {
      "cell_type": "code",
      "source": [
        "r=list(map(int, input().split()))\n",
        "sum=0\n",
        "for i in range(len(r)):\n",
        "  if(r[i]%2!=0):\n",
        "    sum=sum+r[i]\n",
        "print(sum)"
      ],
      "metadata": {
        "colab": {
          "base_uri": "https://localhost:8080/"
        },
        "id": "yPSqRQCEGS-H",
        "outputId": "557f322c-2b41-450e-f9d2-d284fdbcc724"
      },
      "execution_count": 1,
      "outputs": [
        {
          "output_type": "stream",
          "name": "stdout",
          "text": [
            "3 2 4 6 5 7 8 0 1\n",
            "16\n"
          ]
        }
      ]
    }
  ]
}